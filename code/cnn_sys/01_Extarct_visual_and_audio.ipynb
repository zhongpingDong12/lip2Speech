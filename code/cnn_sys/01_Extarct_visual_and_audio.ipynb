{
 "cells": [
  {
   "cell_type": "code",
   "execution_count": 1,
   "metadata": {},
   "outputs": [],
   "source": [
    "def createPath(filePath, addFile):\n",
    "    newFilePath = filePath + addFile\n",
    "    if not os.path.exists(newFilePath):\n",
    "        os.mkdir(newFilePath )\n",
    "    return newFilePath\n",
    "\n",
    "\n",
    "#Extract grayscale face from video \n",
    "def extractFace(video,file_name,face_path,face_cascade):\n",
    "    cap = cv2.VideoCapture(video)\n",
    "    success = cv2.VideoWriter(face_path+file_name+'.avi', cv2.VideoWriter_fourcc(*'MP4V'), 25.0, (128,128),False)\n",
    "\n",
    "    count=0\n",
    "    while(cap.isOpened()):\n",
    "        count=count+1\n",
    "        ret, frame = cap.read()\n",
    "        if ret==False:\n",
    "            break\n",
    "\n",
    "        #cropping face\n",
    "        gray = cv2.cvtColor(frame, cv2.COLOR_BGR2GRAY)\n",
    "\n",
    "        if count==1:\n",
    "            face_rects = face_cascade.detectMultiScale(gray,1.05,3,minSize=(128,128))\n",
    "        if face_rects==():\n",
    "            break\n",
    "\n",
    "        x,y,w,h= face_rects[0]\n",
    "        roi=gray[y:y+h,x:x+w]\n",
    "        roi=cv2.resize(roi,(128,128))\n",
    "        success.write(roi)\n",
    "    cap.release()\n",
    "    success.release()\n",
    "\n",
    "#Extarct audio from video\n",
    "def extractWaveform(video,file_name,audio_path): \n",
    "    os.system('ffmpeg -i '+ video +' -ac 1 -ar 8000 '+audio_path+file_name+'.wav' )"
   ]
  },
  {
   "cell_type": "code",
   "execution_count": 3,
   "metadata": {},
   "outputs": [
    {
     "name": "stdout",
     "output_type": "stream",
     "text": [
      "Total number of video is: 100\n"
     ]
    }
   ],
   "source": [
    "# Import libraries\n",
    "import os\n",
    "import fnmatch\n",
    "import cv2\n",
    "import numpy as np\n",
    "import sys\n",
    "import glob\n",
    "from pathlib import Path\n",
    "\n",
    "# ------ Change speaker here ---------- \n",
    "speaker = 's1'\n",
    "\n",
    "video_path = 'D:/Mrs_backup/speech_test/cnn/video/'+speaker+'/'\n",
    "face_path = 'D:/Mrs_backup/speech_test/cnn/face/'+speaker+'/'\n",
    "if not os.path.exists(face_path):\n",
    "        os.mkdir(face_path )\n",
    "        \n",
    "numfiles=len(fnmatch.filter(os.listdir(video_path), '*.mpg'))\n",
    "print(\"Total number of video is: \"+ str(numfiles))\n",
    "\n",
    "base_path= 'D:/Mrs_backup/speech_test/'\n",
    "audio_path = createPath(filePath = base_path, addFile= speaker+'_audio/')\n",
    "face_path = createPath(filePath = base_path+ 'cnn/', addFile= speaker+'_face/')\n",
    "\n",
    "face_cascade =  cv2.CascadeClassifier('C:\\\\Users\\\\sally\\\\Anaconda3\\\\envs\\\\tensorflow_gpu\\\\Lib\\\\site-packages\\\\cv2\\\\data\\\\haarcascade_frontalface_default.xml')\n",
    "\n",
    "# ------------- Change path here ------------------------\n",
    "for video in glob.glob(r'D:\\speech_dataset\\GRID\\s4\\*.mpg'): \n",
    "    file_name = Path(video).stem\n",
    " \n",
    "    # call extractFace() function to extract grayscale face from video \n",
    "    extractFace(video,file_name,face_path,face_cascade)\n",
    "    \n",
    "    # call extractWaveform() function to extract waveform from video\n",
    "    extractWaveform(video,file_name,audio_path)\n",
    "\n",
    "num_audio=len(fnmatch.filter(os.listdir(audio_path), '*.wav'))\n",
    "num_face=len(fnmatch.filter(os.listdir(face_path), '*.avi'))\n",
    "\n",
    "print(\"Total number of audio is: \"+str(num_audio))\n",
    "print(\"Total number of face is: \"+str(num_face))"
   ]
  },
  {
   "cell_type": "code",
   "execution_count": null,
   "metadata": {},
   "outputs": [],
   "source": []
  }
 ],
 "metadata": {
  "kernelspec": {
   "display_name": "Python 3",
   "language": "python",
   "name": "python3"
  },
  "language_info": {
   "codemirror_mode": {
    "name": "ipython",
    "version": 3
   },
   "file_extension": ".py",
   "mimetype": "text/x-python",
   "name": "python",
   "nbconvert_exporter": "python",
   "pygments_lexer": "ipython3",
   "version": "3.6.8"
  }
 },
 "nbformat": 4,
 "nbformat_minor": 2
}
