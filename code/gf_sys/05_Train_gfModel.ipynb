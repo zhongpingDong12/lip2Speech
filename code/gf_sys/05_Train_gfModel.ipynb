{
 "cells": [
  {
   "cell_type": "code",
   "execution_count": 1,
   "metadata": {
    "colab": {},
    "colab_type": "code",
    "id": "eZu9N0K8SvgQ"
   },
   "outputs": [],
   "source": [
    "# import os\n",
    "# import zipfile\n",
    "\n",
    "# from google.colab import files\n",
    "# uploaded = files.upload()"
   ]
  },
  {
   "cell_type": "code",
   "execution_count": 2,
   "metadata": {
    "colab": {},
    "colab_type": "code",
    "id": "Yl9hkYODeiKb"
   },
   "outputs": [],
   "source": [
    "# for fn in uploaded.keys():\n",
    "#     print('User uploaded file \"{name}\" with length {length} bytes'.format(name=fn, length=len(uploaded[fn])))\n",
    "#     path = '/content/' +fn\n",
    "#     print(path)\n",
    "#     zip_ref = zipfile.ZipFile(path,'r')\n",
    "#     zip_ref.extractall('/tmp/s1_10')\n",
    "#     zip_ref.close()"
   ]
  },
  {
   "cell_type": "code",
   "execution_count": 3,
   "metadata": {
    "colab": {},
    "colab_type": "code",
    "id": "pMbu5fJNPguw"
   },
   "outputs": [
    {
     "name": "stderr",
     "output_type": "stream",
     "text": [
      "Using TensorFlow backend.\n"
     ]
    }
   ],
   "source": [
    "from __future__ import print_function\n",
    "import numpy as np\n",
    "np.random.seed(1337)  # for reproducibility\n",
    "import gc\n",
    "import os\n",
    "os.environ[\"CUDA_DEVICE_ORDER\"] = \"PCI_BUS_ID\"   # see issue #152\n",
    "os.environ[\"CUDA_VISIBLE_DEVICES\"] = \"0,1,2\"\n",
    "from keras.datasets import mnist\n",
    "from keras.models import Sequential, Model, load_model\n",
    "from keras.layers import Input, Dense, Dropout, Activation, Flatten, Reshape\n",
    "from keras.layers import Convolution2D, MaxPooling2D, Convolution3D, MaxPooling3D, LSTM\n",
    "from keras.layers.advanced_activations import ELU\n",
    "from keras.callbacks import ModelCheckpoint\n",
    "from keras.layers.wrappers import Bidirectional\n",
    "from keras.layers.advanced_activations import LeakyReLU\n",
    "from keras.utils import np_utils\n",
    "from keras import backend as BK\n",
    "from keras.regularizers import l2\n",
    "from sklearn import preprocessing\n",
    "from keras.layers.normalization import BatchNormalization\n",
    "from keras.optimizers import *\n",
    "import cv2\n",
    "import IPython\n",
    "from scipy.io.wavfile import read\n",
    "from scipy.io.wavfile import write\n",
    "from scipy.signal import spectrogram\n",
    "from scipy import signal\n",
    "from scipy.signal import firls, lfilter\n",
    "from numpy.lib import stride_tricks\n",
    "import scipy.io as sio"
   ]
  },
  {
   "cell_type": "code",
   "execution_count": 4,
   "metadata": {
    "colab": {},
    "colab_type": "code",
    "id": "5Io4EM-bQCOr"
   },
   "outputs": [],
   "source": [
    "def corr2_loss(a,b):\n",
    "    a = BK.tf.subtract(a, BK.tf.reduce_mean(a))\n",
    "    b = BK.tf.subtract(b, BK.tf.reduce_mean(b))\n",
    "    tmp1 = BK.tf.reduce_sum(BK.tf.multiply(a,a))\n",
    "    tmp2 = BK.tf.reduce_sum(BK.tf.multiply(b,b))\n",
    "    tmp3 = BK.tf.sqrt(BK.tf.multiply(tmp1,tmp2))\n",
    "    tmp4 = BK.tf.reduce_sum(BK.tf.multiply(a,b))\n",
    "    r = -BK.tf.divide(tmp4,tmp3)\n",
    "    return r\n",
    "\n",
    "def corr2_mse_loss(a,b):\n",
    "    a = BK.tf.subtract(a, BK.tf.reduce_mean(a))\n",
    "    b = BK.tf.subtract(b, BK.tf.reduce_mean(b))\n",
    "    tmp1 = BK.tf.reduce_sum(BK.tf.multiply(a,a))\n",
    "    tmp2 = BK.tf.reduce_sum(BK.tf.multiply(b,b))\n",
    "    tmp3 = BK.tf.sqrt(BK.tf.multiply(tmp1,tmp2))\n",
    "    tmp4 = BK.tf.reduce_sum(BK.tf.multiply(a,b))\n",
    "    r = -BK.tf.divide(tmp4,tmp3)\n",
    "    m=BK.tf.reduce_mean(BK.tf.square(BK.tf.subtract(a, b)))\n",
    "    rm=BK.tf.add(r,m)\n",
    "    return rm"
   ]
  },
  {
   "cell_type": "code",
   "execution_count": 5,
   "metadata": {
    "colab": {},
    "colab_type": "code",
    "id": "mN66xZa3QGzR"
   },
   "outputs": [
    {
     "name": "stdout",
     "output_type": "stream",
     "text": [
      "video_input_shape1 (15, 26, 21)\n",
      "steps_per_epoch = 80\n"
     ]
    },
    {
     "data": {
      "text/plain": [
       "20"
      ]
     },
     "execution_count": 5,
     "metadata": {},
     "output_type": "execute_result"
    }
   ],
   "source": [
    "THRESH_FRAME_COUNT=10\n",
    "TIME_WINDOW=40*10 #must be multiple of 40*5\n",
    "TIME_OVERLAP=40*5 #must be multiple of 40*5\n",
    "window_size=TIME_WINDOW/40 #from time to number of frames \n",
    "overlap=TIME_OVERLAP/40 #number of frames\n",
    "num_slices=int((THRESH_FRAME_COUNT-window_size)/overlap)+1 \n",
    "#print(num_slices)\n",
    "NUM_TRAIN=80\n",
    "global count\n",
    "count=0\n",
    "\n",
    "data_input = 'C:/Users/Andrew/sally_file/newTest/model_input/GF_100/s5_gf/'\n",
    "model_ouput = 'C:/Users/Andrew/sally_file/newTest/model_output/gf/s5/'\n",
    "if not os.path.exists(model_ouput):\n",
    "    os.mkdir(model_ouput)\n",
    "\n",
    "\n",
    "mat1=sio.loadmat(data_input+'preprocessed_data_final_part1.mat')\n",
    "video_input_shape = mat1['video_input'].shape\n",
    "audio_input_shape= mat1['audio_input'].shape\n",
    "print('video_input_shape1 '+str(video_input_shape))\n",
    "del mat1\n",
    "\n",
    "mat2=sio.loadmat(data_input+'preprocessed_data_final_part80.mat')\n",
    "video_input_shape_last=mat2['video_input'].shape\n",
    "epoch=32.0\n",
    "steps_per_epoch=int(np.ceil(video_input_shape[0]/epoch)*(NUM_TRAIN-1)+np.ceil(video_input_shape_last[0]/epoch))\n",
    "print('steps_per_epoch = '+str(steps_per_epoch))\n",
    "del mat2\n",
    "\n",
    "gc.collect()"
   ]
  },
  {
   "cell_type": "code",
   "execution_count": 6,
   "metadata": {},
   "outputs": [],
   "source": [
    "def data_augmentation(video):\n",
    "    augmentation_type=[1,2,3]\n",
    "    video=np.transpose(video,axes=[2,1,0])\n",
    "    for i in range(video.shape[2]):\n",
    "        a_type=np.random.choice(augmentation_type)\n",
    "        if a_type==1: #Do the flip\n",
    "            video[:,:,i]=np.fliplr(video[:,:,i])\n",
    "            continue\n",
    "        if a_type==2: #Do the noise\n",
    "            video[:,:,i]+=np.random.normal(0,.01,(video[:,:,i].shape))\n",
    "            continue\n",
    "        if a_type==3:\n",
    "            continue #Return the original frame\n",
    "  \n",
    "    video=np.transpose(video,axes=[2,1,0])\n",
    "    return video\n",
    "\n",
    "def generate_train_data():\n",
    "    for j in range(1,NUM_TRAIN+1):\n",
    "        mat_tmp=sio.loadmat(data_input+'preprocessed_data_final_part'+str(j)+'.mat')\n",
    "        video_input = mat_tmp['video_input']\n",
    "        audio_output = mat_tmp['audio_input']\n",
    "        \n",
    "        audio_output=np.reshape(audio_output,(audio_output.shape[0],audio_input_shape[1]*audio_input_shape[2]))\n",
    "        augmented_vid=data_augmentation(video_input)\n",
    "        yield (augmented_vid,audio_output)"
   ]
  },
  {
   "cell_type": "code",
   "execution_count": 7,
   "metadata": {
    "colab": {},
    "colab_type": "code",
    "id": "WjFYGpr3fNzn",
    "scrolled": true
   },
   "outputs": [],
   "source": [
    "mat=sio.loadmat(data_input+'preprocessed_data_final_validation.mat')\n",
    "video_input_test=mat['video_input']\n",
    "audio_input_test=np.reshape(mat['audio_input'],(-1,audio_input_shape[1]*audio_input_shape[2]))\n",
    "nb_v=video_input_test.shape[0]\n",
    "#Dividing validation data to %50 validation during the training and %50 test for completely unseen data\n",
    "nb_half=int(np.floor(nb_v/2))\n",
    "video_input_validation=video_input_test[:nb_half,:]\n",
    "audio_input_validation=audio_input_test[:nb_half,:]\n",
    "video_input_test=video_input_test[nb_half:,:]\n",
    "audio_input_test=audio_input_test[nb_half:,:]\n",
    "mat=None"
   ]
  },
  {
   "cell_type": "code",
   "execution_count": 8,
   "metadata": {},
   "outputs": [],
   "source": [
    "# mat_val=sio.loadmat(data_input+'preprocessed_data_final_validation.mat')\n",
    "# video_input_validation=mat_val['video_input']\n",
    "# print(video_input_validation.shape)\n",
    "# audio_input_validation=np.reshape(mat_val['audio_input'],(-1,audio_input_shape[1]*audio_input_shape[2]))\n",
    "\n",
    "# mat_test=sio.loadmat(data_input+'preprocessed_data_final_test.mat')\n",
    "# video_input_test=mat_test['video_input']\n",
    "# audio_input_test=np.reshape(mat_test['audio_input'],(-1,audio_input_shape[1]*audio_input_shape[2]))\n",
    "# print(video_input_test.shape)\n",
    "# mat_val= None\n",
    "# mat_test =None\n"
   ]
  },
  {
   "cell_type": "code",
   "execution_count": 9,
   "metadata": {
    "colab": {},
    "colab_type": "code",
    "id": "elqruDN4fP_A"
   },
   "outputs": [
    {
     "name": "stdout",
     "output_type": "stream",
     "text": [
      "WARNING:tensorflow:From C:\\Users\\Andrew\\Anaconda3\\lib\\site-packages\\tensorflow\\python\\framework\\op_def_library.py:263: colocate_with (from tensorflow.python.framework.ops) is deprecated and will be removed in a future version.\n",
      "Instructions for updating:\n",
      "Colocations handled automatically by placer.\n"
     ]
    }
   ],
   "source": [
    "config = BK.tf.ConfigProto()\n",
    "config.gpu_options.allow_growth=True\n",
    "sess = BK.tf.Session(config=config)\n",
    "adam=Adam(lr=.0001)\n",
    "reg=.0005\n",
    "model=Sequential()"
   ]
  },
  {
   "cell_type": "code",
   "execution_count": 10,
   "metadata": {
    "colab": {},
    "colab_type": "code",
    "id": "ozPh7xi6fSBB"
   },
   "outputs": [
    {
     "name": "stdout",
     "output_type": "stream",
     "text": [
      "WARNING:tensorflow:From C:\\Users\\Andrew\\Anaconda3\\lib\\site-packages\\keras\\backend\\tensorflow_backend.py:3445: calling dropout (from tensorflow.python.ops.nn_ops) with keep_prob is deprecated and will be removed in a future version.\n",
      "Instructions for updating:\n",
      "Please use `rate` instead of `keep_prob`. Rate should be set to `rate = 1 - keep_prob`.\n",
      "_________________________________________________________________\n",
      "Layer (type)                 Output Shape              Param #   \n",
      "=================================================================\n",
      "lstm_1 (LSTM)                (None, 26, 512)           1093632   \n",
      "_________________________________________________________________\n",
      "batch_normalization_1 (Batch (None, 26, 512)           2048      \n",
      "_________________________________________________________________\n",
      "elu_1 (ELU)                  (None, 26, 512)           0         \n",
      "_________________________________________________________________\n",
      "dropout_1 (Dropout)          (None, 26, 512)           0         \n",
      "_________________________________________________________________\n",
      "flatten_1 (Flatten)          (None, 13312)             0         \n",
      "_________________________________________________________________\n",
      "dense_1 (Dense)              (None, 2048)              27265024  \n",
      "_________________________________________________________________\n",
      "batch_normalization_2 (Batch (None, 2048)              8192      \n",
      "_________________________________________________________________\n",
      "elu_2 (ELU)                  (None, 2048)              0         \n",
      "_________________________________________________________________\n",
      "dropout_2 (Dropout)          (None, 2048)              0         \n",
      "_________________________________________________________________\n",
      "dense_2 (Dense)              (None, 832)               1704768   \n",
      "_________________________________________________________________\n",
      "activation_1 (Activation)    (None, 832)               0         \n",
      "=================================================================\n",
      "Total params: 30,073,664\n",
      "Trainable params: 30,068,544\n",
      "Non-trainable params: 5,120\n",
      "_________________________________________________________________\n"
     ]
    }
   ],
   "source": [
    "# # 1st layer\n",
    "# model.add(Convolution3D(filters = 16, kernel_size=[3, 3, 3], input_shape=video_input_shape[1:], data_format='channels_first', kernel_initializer=\"he_normal\",padding='same', kernel_regularizer=l2(reg)))\n",
    "# model.add(BatchNormalization())\n",
    "# model.add(LeakyReLU())\n",
    "# model.add(MaxPooling3D(pool_size=(2, 2, 1), data_format='channels_first'))\n",
    "# model.add(Dropout(.25))\n",
    "\n",
    "# # Reshaping spatio-temporal features to feed into LSTM layer\n",
    "# shape=model.get_output_shape_at(0)\n",
    "# model.add(Reshape((shape[-1],shape[1]*shape[2]*shape[3])))\n",
    "\n",
    "\n",
    "# # LSTM layer\n",
    "# model.add(LSTM(512, return_sequences=True, kernel_initializer=\"he_normal\"))\n",
    "# model.add(BatchNormalization())\n",
    "# model.add(ELU(alpha=1.0))\n",
    "# model.add(Dropout(.25))\n",
    "\n",
    "# 1st LSTM layer\n",
    "model.add(LSTM(512,input_shape=video_input_shape[1:],return_sequences=True, kernel_initializer=\"he_normal\"))\n",
    "model.add(BatchNormalization())\n",
    "model.add(ELU(alpha=1.0))\n",
    "model.add(Dropout(.25))\n",
    "\n",
    "# Flattening the output\n",
    "model.add(Flatten())\n",
    "\n",
    "# 1st dense layer\n",
    "model.add(Dense(2048,kernel_initializer=\"he_normal\"))\n",
    "model.add(BatchNormalization())\n",
    "model.add(ELU(alpha=1.0))\n",
    "model.add(Dropout(.4))\n",
    "\n",
    "# Output layer\n",
    "model.add(Dense(audio_input_shape[1]*audio_input_shape[2],kernel_initializer=\"he_normal\",use_bias=True))\n",
    "model.add(Activation('sigmoid'))\n",
    "\n",
    "model.compile(loss=corr2_mse_loss,optimizer=adam)\n",
    "model.summary()\n"
   ]
  },
  {
   "cell_type": "code",
   "execution_count": 11,
   "metadata": {
    "colab": {},
    "colab_type": "code",
    "id": "hke6ZDQSfVYX"
   },
   "outputs": [],
   "source": [
    "# print('video_input_shape '+str(video_input_shape))\n",
    "# print('Start training on %d videos and validating on %d videos...'%(2*video_input_shape[0]/2,nb_half/15))\n",
    "# #print('Loading the best model so far...')\n",
    "# #model.load_weights('Best_weights_shuffled_face_length_s1_2_4_29.h5')"
   ]
  },
  {
   "cell_type": "code",
   "execution_count": 12,
   "metadata": {
    "colab": {},
    "colab_type": "code",
    "id": "6AjD9c2BfZob"
   },
   "outputs": [
    {
     "name": "stdout",
     "output_type": "stream",
     "text": [
      "################ LipReading model, iteration: 0/30\n"
     ]
    },
    {
     "name": "stderr",
     "output_type": "stream",
     "text": [
      "C:\\Users\\Andrew\\Anaconda3\\lib\\site-packages\\ipykernel_launcher.py:10: UserWarning: Update your `fit_generator` call to the Keras 2 API: `fit_generator(generator=<generator..., steps_per_epoch=80, callbacks=[<keras.ca..., validation_data=(array([[[..., epochs=1, verbose=1, max_queue_size=10)`\n",
      "  # Remove the CWD from sys.path while we load stuff.\n"
     ]
    },
    {
     "name": "stdout",
     "output_type": "stream",
     "text": [
      "WARNING:tensorflow:From C:\\Users\\Andrew\\Anaconda3\\lib\\site-packages\\tensorflow\\python\\ops\\math_ops.py:3066: to_int32 (from tensorflow.python.ops.math_ops) is deprecated and will be removed in a future version.\n",
      "Instructions for updating:\n",
      "Use tf.cast instead.\n",
      "Epoch 1/1\n",
      "80/80 [==============================] - 20s 249ms/step - loss: -0.0583 - val_loss: -0.2147\n",
      "\n",
      "Epoch 00001: val_loss improved from inf to -0.21468, saving model to C:/Users/Andrew/sally_file/newTest/model_output/gf/s5/Best_weights_LipReading.h5\n",
      "################ LipReading model, iteration: 1/30\n",
      "Epoch 1/1\n",
      "80/80 [==============================] - 16s 203ms/step - loss: -0.2398 - val_loss: -0.2872\n",
      "\n",
      "Epoch 00001: val_loss improved from -0.21468 to -0.28723, saving model to C:/Users/Andrew/sally_file/newTest/model_output/gf/s5/Best_weights_LipReading.h5\n",
      "################ LipReading model, iteration: 2/30\n",
      "Epoch 1/1\n",
      "80/80 [==============================] - 16s 204ms/step - loss: -0.3471 - val_loss: -0.3316\n",
      "\n",
      "Epoch 00001: val_loss improved from -0.28723 to -0.33161, saving model to C:/Users/Andrew/sally_file/newTest/model_output/gf/s5/Best_weights_LipReading.h5\n",
      "################ LipReading model, iteration: 3/30\n",
      "Epoch 1/1\n",
      "80/80 [==============================] - 16s 204ms/step - loss: -0.4067 - val_loss: -0.3508\n",
      "\n",
      "Epoch 00001: val_loss improved from -0.33161 to -0.35078, saving model to C:/Users/Andrew/sally_file/newTest/model_output/gf/s5/Best_weights_LipReading.h5\n",
      "################ LipReading model, iteration: 4/30\n",
      "Epoch 1/1\n",
      "80/80 [==============================] - 16s 204ms/step - loss: -0.4489 - val_loss: -0.3554\n",
      "\n",
      "Epoch 00001: val_loss improved from -0.35078 to -0.35545, saving model to C:/Users/Andrew/sally_file/newTest/model_output/gf/s5/Best_weights_LipReading.h5\n",
      "################ LipReading model, iteration: 5/30\n",
      "Epoch 1/1\n",
      "80/80 [==============================] - 16s 204ms/step - loss: -0.4864 - val_loss: -0.3578\n",
      "\n",
      "Epoch 00001: val_loss improved from -0.35545 to -0.35783, saving model to C:/Users/Andrew/sally_file/newTest/model_output/gf/s5/Best_weights_LipReading.h5\n",
      "################ LipReading model, iteration: 6/30\n",
      "Epoch 1/1\n",
      "80/80 [==============================] - 16s 204ms/step - loss: -0.5136 - val_loss: -0.3585\n",
      "\n",
      "Epoch 00001: val_loss improved from -0.35783 to -0.35847, saving model to C:/Users/Andrew/sally_file/newTest/model_output/gf/s5/Best_weights_LipReading.h5\n",
      "################ LipReading model, iteration: 7/30\n",
      "Epoch 1/1\n",
      "80/80 [==============================] - 16s 204ms/step - loss: -0.5378 - val_loss: -0.3728\n",
      "\n",
      "Epoch 00001: val_loss improved from -0.35847 to -0.37277, saving model to C:/Users/Andrew/sally_file/newTest/model_output/gf/s5/Best_weights_LipReading.h5\n",
      "################ LipReading model, iteration: 8/30\n",
      "Epoch 1/1\n",
      "80/80 [==============================] - 16s 203ms/step - loss: -0.5578 - val_loss: -0.3557\n",
      "\n",
      "Epoch 00001: val_loss did not improve from -0.37277\n",
      "################ LipReading model, iteration: 9/30\n",
      "Epoch 1/1\n",
      "80/80 [==============================] - 16s 204ms/step - loss: -0.5719 - val_loss: -0.3569\n",
      "\n",
      "Epoch 00001: val_loss did not improve from -0.37277\n",
      "################ LipReading model, iteration: 10/30\n",
      "Epoch 1/1\n",
      "80/80 [==============================] - 16s 203ms/step - loss: -0.5890 - val_loss: -0.3590\n",
      "\n",
      "Epoch 00001: val_loss did not improve from -0.37277\n",
      "################ LipReading model, iteration: 11/30\n",
      "Epoch 1/1\n",
      "80/80 [==============================] - 16s 204ms/step - loss: -0.6053 - val_loss: -0.3621\n",
      "\n",
      "Epoch 00001: val_loss did not improve from -0.37277\n",
      "########### Loss didn't improve after 4 epochs, lr is divided by 5 ############\n",
      "################ LipReading model, iteration: 12/30\n",
      "Epoch 1/1\n",
      "80/80 [==============================] - 16s 204ms/step - loss: -0.6210 - val_loss: -0.3696\n",
      "\n",
      "Epoch 00001: val_loss did not improve from -0.37277\n",
      "################ LipReading model, iteration: 13/30\n",
      "Epoch 1/1\n",
      "80/80 [==============================] - 16s 204ms/step - loss: -0.6308 - val_loss: -0.3714\n",
      "\n",
      "Epoch 00001: val_loss did not improve from -0.37277\n",
      "################ LipReading model, iteration: 14/30\n",
      "Epoch 1/1\n",
      "80/80 [==============================] - 16s 204ms/step - loss: -0.6327 - val_loss: -0.3719\n",
      "\n",
      "Epoch 00001: val_loss did not improve from -0.37277\n",
      "################ LipReading model, iteration: 15/30\n",
      "Epoch 1/1\n",
      "80/80 [==============================] - 16s 204ms/step - loss: -0.6440 - val_loss: -0.3745\n",
      "\n",
      "Epoch 00001: val_loss improved from -0.37277 to -0.37451, saving model to C:/Users/Andrew/sally_file/newTest/model_output/gf/s5/Best_weights_LipReading.h5\n",
      "################ LipReading model, iteration: 16/30\n",
      "Epoch 1/1\n",
      "80/80 [==============================] - 16s 204ms/step - loss: -0.6467 - val_loss: -0.3742\n",
      "\n",
      "Epoch 00001: val_loss did not improve from -0.37451\n",
      "################ LipReading model, iteration: 17/30\n",
      "Epoch 1/1\n",
      "80/80 [==============================] - 16s 204ms/step - loss: -0.6491 - val_loss: -0.3763\n",
      "\n",
      "Epoch 00001: val_loss improved from -0.37451 to -0.37626, saving model to C:/Users/Andrew/sally_file/newTest/model_output/gf/s5/Best_weights_LipReading.h5\n",
      "################ LipReading model, iteration: 18/30\n",
      "Epoch 1/1\n",
      "80/80 [==============================] - 16s 204ms/step - loss: -0.6540 - val_loss: -0.3765\n",
      "\n",
      "Epoch 00001: val_loss improved from -0.37626 to -0.37645, saving model to C:/Users/Andrew/sally_file/newTest/model_output/gf/s5/Best_weights_LipReading.h5\n",
      "################ LipReading model, iteration: 19/30\n",
      "Epoch 1/1\n",
      "80/80 [==============================] - 16s 204ms/step - loss: -0.6581 - val_loss: -0.3739\n",
      "\n",
      "Epoch 00001: val_loss did not improve from -0.37645\n",
      "################ LipReading model, iteration: 20/30\n",
      "Epoch 1/1\n",
      "80/80 [==============================] - 16s 204ms/step - loss: -0.6586 - val_loss: -0.3775\n",
      "\n",
      "Epoch 00001: val_loss improved from -0.37645 to -0.37745, saving model to C:/Users/Andrew/sally_file/newTest/model_output/gf/s5/Best_weights_LipReading.h5\n",
      "################ LipReading model, iteration: 21/30\n",
      "Epoch 1/1\n",
      "80/80 [==============================] - 16s 204ms/step - loss: -0.6622 - val_loss: -0.3790\n",
      "\n",
      "Epoch 00001: val_loss improved from -0.37745 to -0.37900, saving model to C:/Users/Andrew/sally_file/newTest/model_output/gf/s5/Best_weights_LipReading.h5\n",
      "################ LipReading model, iteration: 22/30\n",
      "Epoch 1/1\n",
      "80/80 [==============================] - 16s 205ms/step - loss: -0.6622 - val_loss: -0.3800\n",
      "\n",
      "Epoch 00001: val_loss improved from -0.37900 to -0.37999, saving model to C:/Users/Andrew/sally_file/newTest/model_output/gf/s5/Best_weights_LipReading.h5\n",
      "################ LipReading model, iteration: 23/30\n",
      "Epoch 1/1\n",
      "80/80 [==============================] - 16s 203ms/step - loss: -0.6690 - val_loss: -0.3797\n",
      "\n",
      "Epoch 00001: val_loss did not improve from -0.37999\n",
      "################ LipReading model, iteration: 24/30\n",
      "Epoch 1/1\n",
      "80/80 [==============================] - 16s 204ms/step - loss: -0.6764 - val_loss: -0.3766\n",
      "\n",
      "Epoch 00001: val_loss did not improve from -0.37999\n",
      "################ LipReading model, iteration: 25/30\n",
      "Epoch 1/1\n",
      "80/80 [==============================] - 16s 204ms/step - loss: -0.6746 - val_loss: -0.3788\n",
      "\n",
      "Epoch 00001: val_loss did not improve from -0.37999\n",
      "################ LipReading model, iteration: 26/30\n",
      "Epoch 1/1\n",
      "80/80 [==============================] - 16s 205ms/step - loss: -0.6766 - val_loss: -0.3767\n",
      "\n",
      "Epoch 00001: val_loss did not improve from -0.37999\n",
      "########### Loss didn't improve after 4 epochs, lr is divided by 5 ############\n",
      "################ LipReading model, iteration: 27/30\n",
      "Epoch 1/1\n",
      "80/80 [==============================] - 16s 204ms/step - loss: -0.6781 - val_loss: -0.3751\n",
      "\n",
      "Epoch 00001: val_loss did not improve from -0.37999\n",
      "########### Loss didn't improve after 4 epochs, lr is divided by 5 ############\n",
      "################ LipReading model, iteration: 28/30\n",
      "Epoch 1/1\n",
      "80/80 [==============================] - 16s 204ms/step - loss: -0.6794 - val_loss: -0.3746\n",
      "\n",
      "Epoch 00001: val_loss did not improve from -0.37999\n",
      "################ LipReading model, iteration: 29/30\n",
      "Epoch 1/1\n",
      "80/80 [==============================] - 16s 204ms/step - loss: -0.6823 - val_loss: -0.3743\n",
      "\n",
      "Epoch 00001: val_loss did not improve from -0.37999\n",
      "########### Loss didn't improve after 4 epochs, lr is divided by 5 ############\n"
     ]
    }
   ],
   "source": [
    "num_iter=30\n",
    "sio.savemat(model_ouput+'main_encoded_test.mat', mdict={'encode': np.reshape(audio_input_test,(audio_input_test.shape[0],audio_input_shape[1],audio_input_shape[2]))})\n",
    "predict_final = np.empty((num_iter,audio_input_test.shape[0],audio_input_shape[1],audio_input_shape[2]), dtype='float32')\n",
    "filepath=model_ouput+\"Best_weights_LipReading.h5\"\n",
    "checkpoint = ModelCheckpoint(filepath, monitor='val_loss', verbose=1, save_best_only=True, mode='min')\n",
    "callbacks_list = [checkpoint]\n",
    "loss_history=np.empty((num_iter,2), dtype='float32')\n",
    "for i in range(num_iter):\n",
    "    print('################ LipReading model, iteration: '+str(i)+'/'+str(num_iter))\n",
    "    history = model.fit_generator(generator=generate_train_data(),steps_per_epoch=steps_per_epoch, callbacks=callbacks_list,  validation_data=(video_input_validation,audio_input_validation), epochs=1, verbose=1, max_q_size=10)\n",
    "    predict = model.predict(video_input_test)\n",
    "    predict = np.reshape(predict,(predict.shape[0],audio_input_shape[1],audio_input_shape[2]))\n",
    "    predict_final[i,:,:,:] = predict\n",
    "    loss_history[i,0]=history.history['loss'][0]\n",
    "    loss_history[i,1]=history.history['val_loss'][0]\n",
    "    if i>3:\n",
    "        if loss_history[i-4,1]<loss_history[i,1] and loss_history[i-4,1]<loss_history[i-1,1] and loss_history[i-4,1]<loss_history[i-2,1] and loss_history[i-4,1]<loss_history[i-3,1]:\n",
    "            print(\"########### Loss didn't improve after 4 epochs, lr is divided by 5 ############\")\n",
    "            BK.set_value(model.optimizer.lr, .2*BK.get_value(model.optimizer.lr))\n",
    "\n",
    "    sio.savemat(model_ouput+'predict_encoded_test.mat', mdict={'encode': predict_final,'history':loss_history})\n",
    "    if i%10==0:\n",
    "        model.save(model_ouput+'model_LipReading.h5')\n",
    "        model.save_weights(model_ouput+'LipReading_mid_weights.h5')"
   ]
  },
  {
   "cell_type": "code",
   "execution_count": 13,
   "metadata": {
    "colab": {},
    "colab_type": "code",
    "id": "YZGpjqHIfcXD"
   },
   "outputs": [
    {
     "name": "stdout",
     "output_type": "stream",
     "text": [
      "[[-0.05829295 -0.21467799]\n",
      " [-0.23975141 -0.28722632]\n",
      " [-0.3471227  -0.33160695]\n",
      " [-0.4066519  -0.35077673]\n",
      " [-0.44885436 -0.35544813]\n",
      " [-0.4864296  -0.35783306]\n",
      " [-0.5135785  -0.358471  ]\n",
      " [-0.537771   -0.3727733 ]\n",
      " [-0.55781704 -0.35571   ]\n",
      " [-0.57194406 -0.3569298 ]\n",
      " [-0.58895046 -0.35898468]\n",
      " [-0.6053137  -0.36212608]\n",
      " [-0.6209922  -0.36962453]\n",
      " [-0.6307674  -0.371374  ]\n",
      " [-0.6327176  -0.3718705 ]\n",
      " [-0.6439766  -0.37450704]\n",
      " [-0.6466711  -0.3742105 ]\n",
      " [-0.649101   -0.37625888]\n",
      " [-0.6540392  -0.3764548 ]\n",
      " [-0.6580928  -0.37385663]\n",
      " [-0.65857613 -0.3774527 ]\n",
      " [-0.662219   -0.3789994 ]\n",
      " [-0.6621637  -0.3799892 ]\n",
      " [-0.66901815 -0.3796627 ]\n",
      " [-0.67641634 -0.37663653]\n",
      " [-0.67458206 -0.3787914 ]\n",
      " [-0.6765777  -0.37670112]\n",
      " [-0.6781447  -0.37513235]\n",
      " [-0.67944115 -0.3746389 ]\n",
      " [-0.6822601  -0.37431723]]\n"
     ]
    },
    {
     "data": {
      "text/plain": [
       "<Figure size 640x480 with 1 Axes>"
      ]
     },
     "metadata": {},
     "output_type": "display_data"
    }
   ],
   "source": [
    "print(loss_history)\n",
    "\n",
    "import matplotlib.pyplot as plt\n",
    "\n",
    "fig = plt.figure()\n",
    "plt.title('corr2_mse_loss and iteartions')\n",
    "plt.ylabel('corr2_mse_loss')\n",
    "plt.xlabel('number of iteration')\n",
    "\n",
    "loss= loss_history[:,0]\n",
    "val_loss= loss_history[:,1]\n",
    "plt.plot(loss, label='loss')\n",
    "plt.plot(val_loss, label='val_loss')\n",
    "         \n",
    "plt.plot(loss, 'r^',val_loss,'b^')\n",
    "         \n",
    "plt.axis([0, num_iter, -1, 0])\n",
    "fig.savefig(model_ouput+'loss_history.png', dpi=fig.dpi)\n",
    "plt.show()\n"
   ]
  },
  {
   "cell_type": "code",
   "execution_count": 14,
   "metadata": {
    "colab": {},
    "colab_type": "code",
    "id": "sja-vRXY79pl"
   },
   "outputs": [],
   "source": [
    "#Define get_activations function\n",
    "def get_activations(model, layer_in, layer_out, X_batch):\n",
    "    get_activations = BK.function([model.layers[layer_in].input, BK.learning_phase()], [model.layers[layer_out].output])\n",
    "    activations = get_activations([X_batch,0])\n",
    "    return activations\n",
    "\n",
    "autoencoder=load_model('s5_autoencoder.h5',custom_objects={'corr2_mse_loss': corr2_mse_loss})\n",
    "autoencoder.load_weights('s5_autoencoder_weights.h5')"
   ]
  },
  {
   "cell_type": "code",
   "execution_count": 15,
   "metadata": {},
   "outputs": [
    {
     "name": "stdout",
     "output_type": "stream",
     "text": [
      "(15, 832)\n",
      "(15, 32, 26)\n",
      "(390, 32)\n"
     ]
    }
   ],
   "source": [
    "mat1=sio.loadmat(data_input+'preprocessed_data_final_part1.mat')\n",
    "video_input = mat1['video_input']\n",
    "audio_input = mat1['audio_input']\n",
    "model_output = model.predict(video_input)\n",
    "print(model_output.shape)\n",
    "model_output_reshape1=np.reshape(model_output,(audio_input.shape[0],audio_input.shape[1],audio_input.shape[2]))\n",
    "model_output__reshape2=np.concatenate(model_output_reshape1,axis=1)\n",
    "model_output_final = model_output__reshape2.T\n",
    "print(model_output_reshape1.shape)\n",
    "print(model_output_final.shape)"
   ]
  },
  {
   "cell_type": "code",
   "execution_count": 16,
   "metadata": {
    "colab": {},
    "colab_type": "code",
    "id": "zKiqxGpaKjKI",
    "scrolled": true
   },
   "outputs": [
    {
     "name": "stdout",
     "output_type": "stream",
     "text": [
      "(390, 128)\n",
      "(390, 128)\n"
     ]
    },
    {
     "data": {
      "image/png": "[encoded data removed]",
      "text/plain": [
       "<Figure size 1440x216 with 1 Axes>"
      ]
     },
     "metadata": {
      "needs_background": "light"
     },
     "output_type": "display_data"
    },
    {
     "data": {
      "image/png": "[encoded data removed]",
      "text/plain": [
       "<Figure size 1440x216 with 1 Axes>"
      ]
     },
     "metadata": {
      "needs_background": "light"
     },
     "output_type": "display_data"
    }
   ],
   "source": [
    "#orig_data_path='C:/Users/sally/Desktop/MRes_backup/data_set/gabor_features/s1_please/audio/AudSpecs/000.mat'\n",
    "original_data=sio.loadmat('s5_000.mat')\n",
    "original_data= original_data['y']\n",
    "#print(original_data_shape)\n",
    "\n",
    "# Plot Original spectrogram\n",
    "figure1 = plt.figure(1,figsize=(20, 3))\n",
    "plt.imshow(original_data.T, origin=\"lower\", aspect=\"auto\", interpolation=\"none\")\n",
    "plt.title('Original spectrogram')\n",
    "figure1.savefig(model_ouput+'Original spectrogram.png', dpi=figure1.dpi)\n",
    "   \n",
    "decoder_output =get_activations(autoencoder, 13, 19, model_output_final)[0]\n",
    "print(decoder_output.shape)\n",
    "final_model_output = np.power(decoder_output,3)\n",
    "print(final_model_output.shape)\n",
    "sio.savemat('final_model_output.mat', mdict={'final_model_output': final_model_output})\n",
    "    \n",
    "# Plot Reconstruted spectrogram after reserving the compression process\n",
    "figure2 = plt.figure(2,figsize=(20, 3))\n",
    "plt.imshow(final_model_output.T, origin=\"lower\", aspect=\"auto\", interpolation=\"none\")\n",
    "plt.title('Reconstruted spectrogram')\n",
    "figure2.savefig(model_ouput+'Reconstruted spectrogram.png', dpi=figure1.dpi)\n"
   ]
  },
  {
   "cell_type": "code",
   "execution_count": null,
   "metadata": {
    "colab": {},
    "colab_type": "code",
    "id": "KMV8rNysLKdJ"
   },
   "outputs": [],
   "source": []
  },
  {
   "cell_type": "code",
   "execution_count": null,
   "metadata": {},
   "outputs": [],
   "source": [
    "autoencoder=load_model('s3_autoencoder.h5',custom_objects={'corr2_mse_loss': corr2_mse_loss})\n",
    "autoencoder.load_weights('s3_autoencoder_weights.h5')"
   ]
  },
  {
   "cell_type": "code",
   "execution_count": null,
   "metadata": {},
   "outputs": [],
   "source": [
    "data_input = 'C:/Users/Andrew/sally_file/newTest/model_input/GF_100/s3_gf/'\n",
    "mat1=sio.loadmat(data_input+'preprocessed_data_final_part30.mat')\n",
    "video_input = mat1['video_input']\n",
    "audio_input = mat1['audio_input']\n",
    "model_output = model.predict(video_input)\n",
    "\n",
    "model_output_reshape1=np.reshape(model_output,(audio_input.shape[0],audio_input.shape[1],audio_input.shape[2]))\n",
    "model_output__reshape2=np.concatenate(model_output_reshape1,axis=1)\n",
    "model_output_final = model_output__reshape2.T\n",
    "\n",
    "#orig_data_path='C:/Users/sally/Desktop/MRes_backup/data_set/gabor_features/s1_please/audio/AudSpecs/000.mat'\n",
    "original_data=sio.loadmat('s3_002.mat')\n",
    "original_data= original_data['y']\n",
    "#print(original_data_shape)\n",
    "\n",
    "# Plot Original spectrogram\n",
    "figure1 = plt.figure(1,figsize=(20, 3))\n",
    "plt.imshow(original_data.T, origin=\"lower\", aspect=\"auto\", interpolation=\"none\")\n",
    "plt.title('Original spectrogram')\n",
    "figure1.savefig(model_ouput+'Original spectrogram.png', dpi=figure1.dpi)\n",
    " \n",
    "decoder_output =get_activations(autoencoder, 13, 19, model_output_final)[0]\n",
    "print(decoder_output.shape)\n",
    "final_model_output = np.power(decoder_output,3)\n",
    "print(final_model_output.shape)\n",
    "sio.savemat('final_model_output.mat', mdict={'final_model_output': final_model_output})\n",
    "    \n",
    "# Plot Reconstruted spectrogram after reserving the compression process\n",
    "figure2 = plt.figure(2,figsize=(20, 3))\n",
    "plt.imshow(final_model_output.T, origin=\"lower\", aspect=\"auto\", interpolation=\"none\")\n",
    "plt.title('Reconstruted spectrogram')\n",
    "figure2.savefig(model_ouput+'Reconstruted spectrogram.png', dpi=figure1.dpi)\n"
   ]
  },
  {
   "cell_type": "code",
   "execution_count": null,
   "metadata": {},
   "outputs": [],
   "source": []
  }
 ],
 "metadata": {
  "accelerator": "GPU",
  "colab": {
   "name": "CNN+LSTM_E16.ipynb",
   "private_outputs": true,
   "provenance": [],
   "version": "0.3.2"
  },
  "kernelspec": {
   "display_name": "Python 3",
   "language": "python",
   "name": "python3"
  },
  "language_info": {
   "codemirror_mode": {
    "name": "ipython",
    "version": 3
   },
   "file_extension": ".py",
   "mimetype": "text/x-python",
   "name": "python",
   "nbconvert_exporter": "python",
   "pygments_lexer": "ipython3",
   "version": "3.6.8"
  }
 },
 "nbformat": 4,
 "nbformat_minor": 1
}
